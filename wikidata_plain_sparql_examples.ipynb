{
 "metadata": {
  "language_info": {
   "codemirror_mode": {
    "name": "ipython",
    "version": 3
   },
   "file_extension": ".py",
   "mimetype": "text/x-python",
   "name": "python",
   "nbconvert_exporter": "python",
   "pygments_lexer": "ipython3",
   "version": "3.8.5-final"
  },
  "orig_nbformat": 2,
  "kernelspec": {
   "name": "python3",
   "display_name": "Python 3",
   "language": "python"
  }
 },
 "nbformat": 4,
 "nbformat_minor": 2,
 "cells": [
  {
   "source": [
    "# Wikidata Plain SPARQL Examples\n",
    "If there are any issues in this notebook please report them on GitHub: https://github.com/jelleschutter/wikidata-plain-sparql/issues"
   ],
   "cell_type": "markdown",
   "metadata": {}
  },
  {
   "source": [
    "## Install Package"
   ],
   "cell_type": "markdown",
   "metadata": {}
  },
  {
   "cell_type": "code",
   "execution_count": null,
   "metadata": {},
   "outputs": [],
   "source": [
    "!pip install wikidata_plain_sparql"
   ]
  },
  {
   "cell_type": "code",
   "execution_count": 1,
   "metadata": {},
   "outputs": [],
   "source": [
    "import wikidata_plain_sparql as wikidata"
   ]
  },
  {
   "source": [
    "## Data Frame\n",
    "By default the query result ist returned as a pandas data frame:"
   ],
   "cell_type": "markdown",
   "metadata": {}
  },
  {
   "cell_type": "code",
   "execution_count": null,
   "metadata": {},
   "outputs": [],
   "source": [
    "wikidata.query('''\n",
    "SELECT ?actor ?actorLabel\n",
    "WHERE\n",
    "{\n",
    "  # tv series \"Person of Interest\" has actor\n",
    "  wd:Q564345 wdt:P161 ?actor.\n",
    "  # actor has won a Golden Globe Award\n",
    "  ?actor wdt:P166 wd:Q1011547.\n",
    "  SERVICE wikibase:label { bd:serviceParam wikibase:language \"en\". }\n",
    "}\n",
    "''')"
   ]
  },
  {
   "source": [
    "## Map\n",
    "Copied from [https://www.wikidata.org/wiki/Wikidata:SPARQL_query_service/queries/examples](https://www.wikidata.org/wiki/Wikidata:SPARQL_query_service/queries/examples)\n"
   ],
   "cell_type": "markdown",
   "metadata": {}
  },
  {
   "cell_type": "code",
   "execution_count": null,
   "metadata": {},
   "outputs": [],
   "source": [
    "wikidata.query('''\n",
    "#Places within 1km of the Empire State Building\n",
    "SELECT ?place ?placeLabel ?location ?instanceLabel\n",
    "WHERE\n",
    "{\n",
    "  wd:Q9188 wdt:P625 ?loc .\n",
    "  SERVICE wikibase:around {\n",
    "      ?place wdt:P625 ?location .\n",
    "      bd:serviceParam wikibase:center ?loc .\n",
    "      bd:serviceParam wikibase:radius \"1\" .\n",
    "  }\n",
    "  OPTIONAL {    ?place wdt:P31 ?instance  }\n",
    "  SERVICE wikibase:label { bd:serviceParam wikibase:language \"en\" }\n",
    "  BIND(geof:distance(?loc, ?location) as ?dist)\n",
    "} ORDER BY ?dist\n",
    "''', view='map')"
   ]
  }
 ]
}